{
  "nbformat": 4,
  "nbformat_minor": 0,
  "metadata": {
    "colab": {
      "provenance": []
    },
    "kernelspec": {
      "name": "python3",
      "display_name": "Python 3"
    },
    "language_info": {
      "name": "python"
    }
  },
  "cells": [
    {
      "cell_type": "code",
      "execution_count": null,
      "metadata": {
        "id": "ZxK0B329Fi_P"
      },
      "outputs": [],
      "source": []
    },
    {
      "cell_type": "markdown",
      "source": [
        "PROGRAMS DATASTRUCTURE:\n",
        "Q1:create a string with your name"
      ],
      "metadata": {
        "id": "K9jABk27_-tx"
      }
    },
    {
      "cell_type": "code",
      "source": [
        "name = \"Sarves\"\n",
        "print(\"Hello, my name is\", name)"
      ],
      "metadata": {
        "id": "DPT49Oca_85d"
      },
      "execution_count": null,
      "outputs": []
    },
    {
      "cell_type": "code",
      "source": [
        "Q2:length of string\n",
        "a = \"Hello, World!\"\n",
        "print(len(a))"
      ],
      "metadata": {
        "id": "6wAkOy0sAvxJ"
      },
      "execution_count": null,
      "outputs": []
    },
    {
      "cell_type": "code",
      "source": [
        "Q3:slice the first 3 characters\n",
        "s = \"Python programming\"\n",
        "s2 = s[0:3]\n",
        "print(s2)"
      ],
      "metadata": {
        "id": "OEs-HatcA-Rw"
      },
      "execution_count": null,
      "outputs": []
    },
    {
      "cell_type": "code",
      "source": [
        "Q4:covert hello to uppercase\n",
        "s = \"hello\"\n",
        "res = s.upper()\n",
        "print(res)"
      ],
      "metadata": {
        "id": "8oMYkUIJBxz_"
      },
      "execution_count": null,
      "outputs": []
    },
    {
      "cell_type": "code",
      "source": [
        "Q5:replace the string apple with orange\n",
        "s = \"I like apple\"\n",
        "s1 = s.replace(\"apple\", \"orange\")\n",
        "print(s1)\n"
      ],
      "metadata": {
        "id": "XSWfD8TqCDcU"
      },
      "execution_count": null,
      "outputs": []
    },
    {
      "cell_type": "code",
      "source": [
        "Q6:create a list with numbers from 1 to 5\n",
        "r1 = 1\n",
        "r2 = 6\n",
        "li = list(range(r1,r2))\n",
        "print(li)"
      ],
      "metadata": {
        "id": "nowROUXTC2CN"
      },
      "execution_count": null,
      "outputs": []
    },
    {
      "cell_type": "code",
      "source": [
        "Q7:append the number 10 to the list\n",
        "li=[1,2,3,4]\n",
        "li.append(10)\n",
        "print(li)"
      ],
      "metadata": {
        "id": "f1kzTFeGDei9"
      },
      "execution_count": null,
      "outputs": []
    },
    {
      "cell_type": "code",
      "source": [
        "Q8:remove the number 3 from the list\n",
        "li=[1,2,3,4,5]\n",
        "li.remove(3)\n",
        "print(li)"
      ],
      "metadata": {
        "id": "KuoY6cVqEBTI"
      },
      "execution_count": null,
      "outputs": []
    },
    {
      "cell_type": "code",
      "source": [
        "Q9:Access the 2nd element in the list\n",
        "li=[\"a\",\"b\",\"c\",\"d\"]\n",
        "print(li[1])"
      ],
      "metadata": {
        "id": "TlFVRk4AEYBU"
      },
      "execution_count": null,
      "outputs": []
    },
    {
      "cell_type": "code",
      "source": [
        "Q10:reverse the list\n",
        "li=[10,20,30,40,50]\n",
        "li.reverse()\n",
        "print(li)"
      ],
      "metadata": {
        "id": "iw-Yyk6ZEq02"
      },
      "execution_count": null,
      "outputs": []
    },
    {
      "cell_type": "code",
      "source": [
        "Q11:create a tuple with elements\n",
        "t=(100,200,300)\n",
        "print(t)"
      ],
      "metadata": {
        "id": "31tun-W5FXCB"
      },
      "execution_count": null,
      "outputs": []
    },
    {
      "cell_type": "code",
      "source": [
        "Q12:Access the second to last element in the tuple\n",
        "t=('red','green','blue','yellow')\n",
        "print(t[-2])"
      ],
      "metadata": {
        "id": "YEckjiLaFx_-"
      },
      "execution_count": null,
      "outputs": []
    },
    {
      "cell_type": "code",
      "source": [
        "Q13:Minimum number in the tuple\n",
        "t=(10,20,5,15)\n",
        "print(min(t))"
      ],
      "metadata": {
        "id": "7MTdwr6MG1ef"
      },
      "execution_count": null,
      "outputs": []
    },
    {
      "cell_type": "code",
      "source": [
        "Q14:index of the element \"cat\" in the tuple\n",
        "t=('dog','cat','rabbit')\n",
        "print(t.index('cat'))"
      ],
      "metadata": {
        "id": "KVIwngdkHDY8"
      },
      "execution_count": null,
      "outputs": []
    },
    {
      "cell_type": "code",
      "source": [
        "Q15:create a tuple with 3 fruits and check 'kiwi' in it\n",
        "t=('apple','banana','mango')\n",
        "print('kiwi' in t)"
      ],
      "metadata": {
        "id": "1ZrA5dSpHZSy"
      },
      "execution_count": null,
      "outputs": []
    },
    {
      "cell_type": "code",
      "source": [
        "Q16:create a set with elements a,b,c\n",
        "s={'a','b','c'}\n",
        "print(s)"
      ],
      "metadata": {
        "id": "kMbUZnlDH3-G"
      },
      "execution_count": null,
      "outputs": []
    },
    {
      "cell_type": "code",
      "source": [
        "Q17:clear all elements from the set\n",
        "s={1,2,3.4.5}\n",
        "s.clear()\n",
        "print(s)"
      ],
      "metadata": {
        "id": "bwrDCVztIgg1"
      },
      "execution_count": null,
      "outputs": []
    },
    {
      "cell_type": "code",
      "source": [
        "Q18:remove the element 4 from set\n",
        "s={1,2,3.4}\n",
        "s.remove(4)\n",
        "print(s)"
      ],
      "metadata": {
        "id": "_ax8e2ABJAIM"
      },
      "execution_count": null,
      "outputs": []
    },
    {
      "cell_type": "code",
      "source": [
        "Q19:find union of two sets\n",
        "s1={1,2,3}\n",
        "s2={3,4,5}\n",
        "print(s1.union(s2))"
      ],
      "metadata": {
        "id": "1ETWPqBLJWI7"
      },
      "execution_count": null,
      "outputs": []
    },
    {
      "cell_type": "code",
      "source": [
        "Q20:intersection of two sets\n",
        "s1={1,2,3}\n",
        "s2={2,3,4}\n",
        "print(s1.intersection(s2))"
      ],
      "metadata": {
        "id": "jdV3GMVjLO2c"
      },
      "execution_count": null,
      "outputs": []
    },
    {
      "cell_type": "code",
      "source": [
        "Q21:dictionary with keys \"name\",\"age\" and \"city\"\n",
        "d={\"name\":\"Sarvesh\",\"age\":23,\"city\":\"Bangalore\"}\n",
        "print(d)"
      ],
      "metadata": {
        "id": "PdETamMWLapC"
      },
      "execution_count": null,
      "outputs": []
    },
    {
      "cell_type": "code",
      "source": [
        "Q22:new key value pair to the dictionary {'name':'john','age':25}\n",
        "d={'name':'john','age':25}\n",
        "d['country']='USA'\n",
        "print(d)"
      ],
      "metadata": {
        "id": "VVjKD2lDMA05"
      },
      "execution_count": null,
      "outputs": []
    },
    {
      "cell_type": "code",
      "source": [
        "Q23:acess the value associated with key \"name\" in {\"name\":\"alice\",\"age\":30}\n",
        "d={\"name\":\"alice\",\"age\":30}\n",
        "print(d[\"name\"])"
      ],
      "metadata": {
        "id": "7kEO2zJdMoIE"
      },
      "execution_count": null,
      "outputs": []
    },
    {
      "cell_type": "code",
      "source": [
        "Q24:remove age from the ditionary\n",
        "d={\"name\":\"Bob\",\"age\":22,\"city\":\"newyork\"}\n",
        "del d[\"age\"]\n",
        "print(d)"
      ],
      "metadata": {
        "id": "Ik9GwcRJN5fe"
      },
      "execution_count": null,
      "outputs": []
    },
    {
      "cell_type": "code",
      "source": [
        "Q25:city exists in dictionary\n",
        "d={\"name\":\"alice\",\"City\":\"paris\"}\n",
        "print(\"City\" in d)"
      ],
      "metadata": {
        "id": "6DlXTCjzPGMn"
      },
      "execution_count": null,
      "outputs": []
    },
    {
      "cell_type": "code",
      "source": [
        "Q26:create a list,tuple and a dictionary\n",
        "l=[1,2,3]\n",
        "t=(4,5,6)\n",
        "d={\"a\":1,\"b\":2}\n",
        "print(l,t,d)"
      ],
      "metadata": {
        "id": "bxQnlI5kPZ-J"
      },
      "execution_count": null,
      "outputs": []
    },
    {
      "cell_type": "code",
      "source": [
        "Q27: 5 random number from 1 to 100 sort in ascending order\n",
        "import random\n",
        "l=[]\n",
        "for i in range(5):\n",
        "    l.append(random.randint(1,100))\n",
        "    l.sort()\n",
        "print(l)"
      ],
      "metadata": {
        "id": "60m0Ayv1P035"
      },
      "execution_count": null,
      "outputs": []
    },
    {
      "cell_type": "code",
      "source": [
        "Q28:create a list of strings and print element of 3rd index\n",
        "l=[\"apple\",\"cat\",\"ball\"]\n",
        "print(l[3])"
      ],
      "metadata": {
        "id": "85pwgixfQl3N"
      },
      "execution_count": null,
      "outputs": []
    },
    {
      "cell_type": "code",
      "source": [
        "Q29:combine two dictionaries into one\n",
        "d1={\"a\":1,\"b\":2}\n",
        "d2={\"c\":3,\"d\":4}\n",
        "d1.update(d2)\n",
        "print(d1)"
      ],
      "metadata": {
        "id": "28Fe00r4RB-j"
      },
      "execution_count": null,
      "outputs": []
    },
    {
      "cell_type": "code",
      "source": [
        "Q30:convert a list of strings into a set\n",
        "l=[\"summer\",\"rain\",\"winter\"]\n",
        "s=set(l)\n",
        "print(s)"
      ],
      "metadata": {
        "id": "slfUxPXXRcj2"
      },
      "execution_count": null,
      "outputs": []
    },
    {
      "cell_type": "markdown",
      "source": [
        "Q1:Data structures and their Importance.\n",
        "A data structure is a specialized format for organizing, processing, retrieving and storing data. There are several basic and advanced types of datastructures, all designed to arrange data to suit a specific purpose. Data structures make it easy for users to access and work with the data they need.\n",
        "\n",
        "Q2:MUTABLE AND IMMUTABLE DATATYPES.\n",
        "Mutable data types:\n",
        "You can add, remove, or modify the contents of a mutable data type.\n",
        "For example, lists and dictionaries are mutable data types.\n",
        "Immutable data types:\n",
        "You cannot change the contents of an immutable data type, but you can assign new values.\n",
        "For example, strings, tuples, and numbers are immutable data type.\n",
        "\n",
        "Q3:Main difference between lists and tuples\n",
        "The main difference between tuples and lists is that tuples are immutable, meaning their contents cannot be changed after creation, while lists are mutable and can be modified. Additionally, tuples are more memory-efficient compared to lists. Tuples can't be changed after they're created, but lists can be modified.\n",
        "\n",
        "Q4:How Dictionaries store data\n",
        "Dictionaries are used to store data values in key:value pairs. A dictionary is a collection which is in ordere,changeable and doesnt allow duplicate.\n",
        "\n",
        "Q5:Why do we use sets instead of lists\n",
        "Because sets cannot have multiple occurrences of the same element, it makes sets highly useful to efficiently remove duplicate values from a list or tuple and to perform common math operations like unions and intersections.\n",
        "\n",
        "Q6:string in python and different from lists\n",
        "A string is a sequence of characters between single or double quotes. A list is a sequence of items, where each item could be anything (an integer, a float, a string, etc).\n",
        "\n",
        "Q7:Tuples ensure data integrity in python\n",
        "Tuples are immutable to ensure that their contents remain constant throughout their lifecycle, guaranteeing data integrity and reliability. This immutability allows tuples to be used as keys in dictionaries and elements in sets, as they can be hashed.\n",
        "\n",
        "Q8:Hash table and how it is related to dictionary\n",
        "Hash table is essentially the underlying data structure used to implement a \"dictionary,\" meaning that when you use a dictionary in Python, it is actually a hash table working behind the scenes to store and access key-value pairs efficiently.\n",
        "\n",
        "Q9:Can lists contain different datatypes in python\n",
        " YES,lists can contain heterogeneous data types and objects. For instance, integers, strings, and even functions can be stored within the same list.\n",
        "\n",
        "Q10:why strings are immutable in python\n",
        "Strings in Python are “immutable” which means they can not be changed after they are created. Some other immutable data types are integers, float, boolean.The immutability of Python string is very useful as it helps in hashing, performance optimization, safety, ease of use, etc.\n",
        "\n",
        "Q11:advantage of dictionary over a list\n",
        "A list can store any data type. In contrast, keys in the dictionary can be of any immutable data type, and values can be of any data type. Lists perform faster for ordered operations like sorting, while dictionaries perform faster for lookup operations.\n",
        "\n",
        "Q12:scenario of using tuple over a list.\n",
        "Use a tuple if you need an immutable collection where the elements won't change after creation. Tuples are generally faster and more memory-efficient than lists, making them better for fixed collections, especially as dictionary keys or when iteration speed is crucial.\n",
        "\n",
        "Q13.How do sets handle duplicates in python\n",
        "Items of a set in python are immutable (unchangeable), do not duplicate values, and unordered. Thus, items in a set do not appear in a stipulated manner, i.e., they can appear in a different order every time it is used. Due to this, set items cannot be referred by key or index.\n",
        "\n",
        "Q 14:In keyword for dictionary\n",
        "the in operation for the dictionary tests on keys. The key of the dictionary is a unique value as well as the set, and the execution time is about the same as for sets. On the other hand, dictionary values can be duplicated like a list.\n",
        "\n",
        "Q15:can we modify tuple ,explain\n",
        "No we cant modify the elements in tuples as the tuple is immutable datatype in python.\n",
        "\n",
        "Q16:Nested dictionary and its uses\n",
        "Nesting Dictionary means putting a dictionary inside another dictionary. Nesting is of great use as the kind of information we can model in programs is expanded greatly.\n",
        "\n",
        "Q17.time complexity of accessing elements in dictionary\n",
        "Values in a dictionary can be accessed using the keys. To access a value in a dictionary, we use square brackets [] and provide the key.\n",
        "\n",
        "Q18:lists preferred over dictionary\n",
        "For quick data look-ups, configurations, or caches, favor dictionaries. For ordered collections and sequence operations, such as maintaining a stack or queue, lists are more suitable.\n",
        "\n",
        "Q19:why dictionary considered as unordered\n",
        "  A dictionary is called an unordered collection of objects because it doesn't maintain an order of the items based on when they were added. Dictionaries are designed to be fast for key-based access, not for ordered access like lists or tuples.\n",
        "\n",
        "Q20:difference between lists and dictionary over a data retrival\n",
        "A list is an ordered collection of items, whereas a dictionary is an unordered data collection in a key: value pair. Elements from the list can be accessed using the index, while the elements of the dictionary can be accessed using keys.\n",
        "\n"
      ],
      "metadata": {
        "id": "F__iLNOyFovR"
      }
    }
  ]
}